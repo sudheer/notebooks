{
  "cells": [
    {
      "cell_type": "code",
      "metadata": {
        "collapsed": true,
        "cell_id": "00000-c22457d4-05df-4fec-895e-a12d32a834f8",
        "deepnote_cell_type": "code"
      },
      "source": "## Jupyter Notebooks\n",
      "execution_count": null,
      "outputs": []
    }
  ],
  "nbformat": 4,
  "nbformat_minor": 0,
  "metadata": {
    "kernelspec": {
      "display_name": "Python 3",
      "language": "python",
      "name": "python3"
    },
    "language_info": {
      "codemirror_mode": {
        "name": "ipython",
        "version": 2
      },
      "file_extension": ".py",
      "mimetype": "text/x-python",
      "name": "python",
      "nbconvert_exporter": "python",
      "pygments_lexer": "ipython2",
      "version": "2.7.6"
    },
    "deepnote_notebook_id": "bc225f19-0be3-4f6d-bf43-f2219f6f6734",
    "deepnote": {},
    "deepnote_execution_queue": []
  }
}