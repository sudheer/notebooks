{
  "cells": [
    {
      "cell_type": "markdown",
      "source": "1. Functions are first class values\n    - Functions can be defined with in other functions\n    - Functions can be passed as params to other functions\n    - Functions can be return types of functions\n2. Immutability\n    - operations on objects creates new objects rather than modifying original\n3. Pure functions\n\n> Pure Function = O/p depends on I/p + No side effects\n  - A pure function cannot rely on input from files, databases, web services etc\n  - always produces same output with given input\n\n<figure>\n    <img src=\"https://user-images.githubusercontent.com/8268939/79669398-0a754800-8170-11ea-943c-bc19a5b65506.jpeg\" width=\"400\" height=\"200\"/>\n    <figcaption>Fig - Pure function </figcaption>\n</figure>",
      "metadata": {
        "tags": [],
        "cell_id": "00002-e5896fa3-893d-4d3a-8977-4fd139140eae",
        "deepnote_cell_type": "markdown"
      }
    },
    {
      "cell_type": "markdown",
      "source": "",
      "metadata": {
        "tags": [],
        "cell_id": "00003-6ca15ea2-a6ae-4d24-8c6a-0051a37c1d43",
        "deepnote_cell_type": "markdown"
      }
    },
    {
      "cell_type": "code",
      "source": "// pure function\ndef add(a:Int, b:Int):Int = { \n            return a + b\n        } ",
      "metadata": {
        "tags": [],
        "cell_id": "00002-d6e98fa6-280c-4d41-98dc-a9dfa6c9a9a0",
        "deepnote_to_be_reexecuted": false,
        "source_hash": "d8f15c16",
        "execution_start": 1615144586912,
        "execution_millis": 1754,
        "deepnote_cell_type": "code"
      },
      "outputs": [
        {
          "output_type": "execute_result",
          "execution_count": 1,
          "data": {
            "text/plain": "defined \u001b[32mfunction\u001b[39m \u001b[36madd\u001b[39m"
          },
          "metadata": {}
        }
      ],
      "execution_count": null
    },
    {
      "cell_type": "code",
      "source": "// Impure function\n// returns different result every time called \ndef getSysTime:Long = { \n            return System.currentTimeMillis()\n  }",
      "metadata": {
        "tags": [],
        "cell_id": "00003-d84f5e34-bbd3-4fe5-b414-f2c2aa16b4f7",
        "deepnote_to_be_reexecuted": false,
        "source_hash": "76c43eec",
        "execution_start": 1615144613915,
        "execution_millis": 1895,
        "deepnote_cell_type": "code"
      },
      "outputs": [
        {
          "output_type": "execute_result",
          "execution_count": 1,
          "data": {
            "text/plain": "defined \u001b[32mfunction\u001b[39m \u001b[36mgetSysTime\u001b[39m"
          },
          "metadata": {}
        }
      ],
      "execution_count": null
    },
    {
      "cell_type": "markdown",
      "source": "## Block in scala\n\nBlocks are themselves expressions; a block may appear everywhere an expression can\n\n### Blocks and visibility",
      "metadata": {
        "tags": [],
        "cell_id": "00004-1386356c-8e73-4767-8e5f-2c0673646778",
        "deepnote_cell_type": "markdown"
      }
    },
    {
      "cell_type": "code",
      "source": "val x = 0\ndef f(y: Int) = y + 1 // whatever defined outside block can be accessed from inside block below\n\nval result = {\n    val x = f(3) // whatever defined inside block accessible only here, this overwrites the definition of x outside\n    x * x\n}",
      "metadata": {
        "tags": [],
        "cell_id": "00004-d0fcfe0b-f81b-4c00-8a6d-6bfbd4d84a5f",
        "deepnote_to_be_reexecuted": false,
        "source_hash": "e3521cf3",
        "execution_millis": 3945,
        "execution_start": 1615145301593,
        "deepnote_cell_type": "code"
      },
      "outputs": [
        {
          "output_type": "execute_result",
          "execution_count": 1,
          "data": {
            "text/plain": "\u001b[36mx\u001b[39m: \u001b[32mInt\u001b[39m = \u001b[32m0\u001b[39m\ndefined \u001b[32mfunction\u001b[39m \u001b[36mf\u001b[39m\n\u001b[36mresult\u001b[39m: \u001b[32mInt\u001b[39m = \u001b[32m16\u001b[39m"
          },
          "metadata": {}
        }
      ],
      "execution_count": null
    }
  ],
  "nbformat": 4,
  "nbformat_minor": 2,
  "metadata": {
    "orig_nbformat": 2,
    "deepnote_notebook_id": "c562cf05-3781-4867-989e-37e60c871ef1",
    "deepnote": {},
    "deepnote_execution_queue": []
  }
}