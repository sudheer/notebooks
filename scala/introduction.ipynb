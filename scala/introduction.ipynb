{
  "cells": [
    {
      "cell_type": "markdown",
      "source": "1. Functions are first class values\n    - Functions can be defined with in other functions\n    - Functions can be passed as params to other functions\n    - Functions can be return types of functions\n2. Immutability\n    - operations on objects creates new objects rather than modifying original\n3. Pure functions\n\n> Pure Function = O/p depends on I/p + No side effects\n  - A pure function cannot rely on input from files, databases, web services etc\n  - always produces same output with given input\n\n<figure>\n    <img src=\"https://user-images.githubusercontent.com/8268939/79669398-0a754800-8170-11ea-943c-bc19a5b65506.jpeg\" width=\"400\" height=\"200\"/>\n    <figcaption>Fig - Pure function </figcaption>\n</figure>",
      "metadata": {
        "tags": [],
        "cell_id": "00002-e5896fa3-893d-4d3a-8977-4fd139140eae",
        "deepnote_cell_type": "markdown"
      }
    },
    {
      "cell_type": "markdown",
      "source": "",
      "metadata": {
        "tags": [],
        "cell_id": "00003-6ca15ea2-a6ae-4d24-8c6a-0051a37c1d43",
        "deepnote_cell_type": "markdown"
      }
    },
    {
      "cell_type": "code",
      "source": "// pure function\ndef add(a:Int, b:Int):Int = { \n            return a + b\n        } ",
      "metadata": {
        "tags": [],
        "cell_id": "00002-d6e98fa6-280c-4d41-98dc-a9dfa6c9a9a0",
        "deepnote_to_be_reexecuted": false,
        "source_hash": "d8f15c16",
        "execution_start": 1615144586912,
        "execution_millis": 1754,
        "deepnote_cell_type": "code"
      },
      "outputs": [
        {
          "output_type": "execute_result",
          "execution_count": 1,
          "data": {
            "text/plain": "defined \u001b[32mfunction\u001b[39m \u001b[36madd\u001b[39m"
          },
          "metadata": {}
        }
      ],
      "execution_count": null
    },
    {
      "cell_type": "code",
      "source": "// Impure function\n// returns different result every time called \ndef getSysTime:Long = { \n            return System.currentTimeMillis()\n  }",
      "metadata": {
        "tags": [],
        "cell_id": "00003-d84f5e34-bbd3-4fe5-b414-f2c2aa16b4f7",
        "deepnote_to_be_reexecuted": false,
        "source_hash": "76c43eec",
        "execution_start": 1615144613915,
        "execution_millis": 1895,
        "deepnote_cell_type": "code"
      },
      "outputs": [
        {
          "output_type": "execute_result",
          "execution_count": 1,
          "data": {
            "text/plain": "defined \u001b[32mfunction\u001b[39m \u001b[36mgetSysTime\u001b[39m"
          },
          "metadata": {}
        }
      ],
      "execution_count": null
    },
    {
      "cell_type": "markdown",
      "source": "## Block in scala\n\nBlocks are themselves expressions; a block may appear everywhere an expression can\n\n### Blocks and visibility",
      "metadata": {
        "tags": [],
        "cell_id": "00004-1386356c-8e73-4767-8e5f-2c0673646778",
        "deepnote_cell_type": "markdown"
      }
    },
    {
      "cell_type": "code",
      "source": "val x = 0\ndef f(y: Int) = y + 1 // whatever defined outside block can be accessed from inside block below\n\nval result = {\n    val x = f(3) // whatever defined inside block accessible only here, this overwrites the definition of x outside\n    x * x\n}",
      "metadata": {
        "tags": [],
        "cell_id": "00004-d0fcfe0b-f81b-4c00-8a6d-6bfbd4d84a5f",
        "deepnote_to_be_reexecuted": false,
        "source_hash": "e3521cf3",
        "execution_millis": 4027,
        "execution_start": 1615144671668,
        "deepnote_cell_type": "code"
      },
      "outputs": [
        {
          "output_type": "execute_result",
          "execution_count": 1,
          "data": {
            "text/plain": "\u001b[36mx\u001b[39m: \u001b[32mInt\u001b[39m = \u001b[32m0\u001b[39m\ndefined \u001b[32mfunction\u001b[39m \u001b[36mf\u001b[39m\n\u001b[36mresult\u001b[39m: \u001b[32mInt\u001b[39m = \u001b[32m16\u001b[39m"
          },
          "metadata": {}
        }
      ],
      "execution_count": 1
    },
    {
      "cell_type": "markdown",
      "source": "<a style='text-decoration:none;line-height:16px;display:flex;color:#5B5B62;padding:10px;justify-content:end;' href='https://deepnote.com?utm_source=created-in-deepnote-cell&projectId=59fed157-d159-4185-9111-7300bbdb4155' target=\"_blank\">\n<img style='display:inline;max-height:16px;margin:0px;margin-right:7.5px;' src='data:image/svg+xml;base64,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' > </img>\nCreated in <span style='font-weight:600;margin-left:4px;'>Deepnote</span></a>",
      "metadata": {
        "tags": [],
        "created_in_deepnote_cell": true,
        "deepnote_cell_type": "markdown"
      }
    }
  ],
  "nbformat": 4,
  "nbformat_minor": 2,
  "metadata": {
    "orig_nbformat": 2,
    "deepnote_notebook_id": "c562cf05-3781-4867-989e-37e60c871ef1",
    "deepnote": {},
    "deepnote_execution_queue": []
  }
}