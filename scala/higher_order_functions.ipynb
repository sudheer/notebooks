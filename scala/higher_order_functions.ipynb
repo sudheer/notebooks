{
  "cells": [
    {
      "cell_type": "markdown",
      "source": "## Higher Order Functions\n\n- take function as argument\n- return function as argument\n\n<figure>\n    <img src=\"https://user-images.githubusercontent.com/8268939/79669243-0e549a80-816f-11ea-8cae-29f930cae016.jpeg\" width=\"500\"/>\n    <figcaption>Fig - Higher Order Functions </figcaption>\n</figure>",
      "metadata": {
        "tags": [],
        "cell_id": "00000-98090cf8-6d16-41da-8881-d4849d6af79e",
        "deepnote_cell_type": "markdown"
      }
    },
    {
      "cell_type": "code",
      "source": "def math(x: Double, y: Double, f: (Double, Double) => Double) : Double = f(x,y)\n\nmath(10, 20, (a,b)=>a+b)",
      "metadata": {
        "tags": [],
        "cell_id": "00001-d325240a-9029-44af-a664-06097ddc4dcf",
        "deepnote_to_be_reexecuted": false,
        "source_hash": "147ba2c1",
        "execution_start": 1615146658769,
        "execution_millis": 5025,
        "deepnote_cell_type": "code"
      },
      "outputs": [
        {
          "output_type": "execute_result",
          "execution_count": 1,
          "data": {
            "text/plain": "defined \u001b[32mfunction\u001b[39m \u001b[36mmath\u001b[39m\n\u001b[36mres0_1\u001b[39m: \u001b[32mDouble\u001b[39m = \u001b[32m30.0\u001b[39m"
          },
          "metadata": {}
        }
      ],
      "execution_count": 1
    },
    {
      "cell_type": "code",
      "source": "math(10,20, (a,b)=>a-b)\n\n\nval list = List(1,2,3)\n\nlist.map(x => x+1) // Higher order function passed to map\n\ndef sum(f: Int => Int, a: Int, b: Int): Int = \n    if (a > b) 0\n    else f(a) + sum(f, a+1, b)\n\nsum(x => x*x*x, 1 , 5)",
      "metadata": {
        "tags": [],
        "cell_id": "00004-3ead1bec-3484-4a59-be8c-96602550ba4a",
        "deepnote_to_be_reexecuted": false,
        "source_hash": "df83b350",
        "execution_start": 1615146695781,
        "execution_millis": 1648,
        "deepnote_cell_type": "code"
      },
      "outputs": [
        {
          "output_type": "execute_result",
          "execution_count": 2,
          "data": {
            "text/plain": "\u001b[36mres1_0\u001b[39m: \u001b[32mDouble\u001b[39m = \u001b[32m-10.0\u001b[39m\n\u001b[36mlist\u001b[39m: \u001b[32mList\u001b[39m[\u001b[32mInt\u001b[39m] = \u001b[33mList\u001b[39m(\u001b[32m1\u001b[39m, \u001b[32m2\u001b[39m, \u001b[32m3\u001b[39m)\n\u001b[36mres1_2\u001b[39m: \u001b[32mList\u001b[39m[\u001b[32mInt\u001b[39m] = \u001b[33mList\u001b[39m(\u001b[32m2\u001b[39m, \u001b[32m3\u001b[39m, \u001b[32m4\u001b[39m)\ndefined \u001b[32mfunction\u001b[39m \u001b[36msum\u001b[39m\n\u001b[36mres1_4\u001b[39m: \u001b[32mInt\u001b[39m = \u001b[32m225\u001b[39m"
          },
          "metadata": {}
        }
      ],
      "execution_count": 2
    }
  ],
  "nbformat": 4,
  "nbformat_minor": 2,
  "metadata": {
    "orig_nbformat": 2,
    "deepnote_notebook_id": "c4b91225-fed1-4c35-b6ca-8cfe2bf7f9d9",
    "deepnote": {},
    "deepnote_execution_queue": []
  }
}