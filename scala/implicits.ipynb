{
  "cells": [
    {
      "cell_type": "markdown",
      "source": "## Implicit parameters\n\n**Uses**\n- passing context objects, connections, sessions etc\n- implicit conversions are used to convert between types\n- Scala auto import certain implicit conversions in scala.Predef\n\n**Rules**\n\nThe compliler will search for implicit definition that\n- is marked implicit\n- has type compatible with T\n- is visible at point of funciton call, or is defined in companion object associated with T",
      "metadata": {
        "tags": [],
        "cell_id": "00001-0f35aeb1-f747-4ba7-aa05-e24745a789ad",
        "deepnote_cell_type": "markdown"
      }
    }
  ],
  "nbformat": 4,
  "nbformat_minor": 2,
  "metadata": {
    "orig_nbformat": 2,
    "deepnote_notebook_id": "2d63b15d-5c51-4a1e-9660-64161f02abac",
    "deepnote": {},
    "deepnote_execution_queue": []
  }
}