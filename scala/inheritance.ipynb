{
  "cells": [
    {
      "cell_type": "markdown",
      "source": "# Inheritance",
      "metadata": {
        "tags": [],
        "cell_id": "00000-d4bac266-b050-4613-af12-2df2222026ac",
        "deepnote_cell_type": "markdown"
      }
    },
    {
      "cell_type": "markdown",
      "source": "### Acess Modifier in inheritance",
      "metadata": {
        "tags": [],
        "cell_id": "00001-16620cd8-ca7a-432f-af1a-311b8c657457",
        "deepnote_cell_type": "markdown"
      }
    },
    {
      "cell_type": "code",
      "source": "class Animal {\n  protected def eat = println(\"I am eattng!\")\n}\n\nclass Cat extends Animal {\n  def burp = {\n    eat\n    println(\"Burp! Pardon me!\")\n  }\n}\n\nnew Cat().eat \n// can't be access since declared protected in super class",
      "metadata": {
        "tags": [],
        "cell_id": "00002-f1daa897-088c-4c11-9784-d385842c1371",
        "deepnote_to_be_reexecuted": false,
        "source_hash": "79dbc3bc",
        "execution_millis": 96,
        "execution_start": 1615165619797,
        "deepnote_cell_type": "code"
      },
      "outputs": [
        {
          "name": "stderr",
          "text": "cmd0.sc:12: method eat in class Animal cannot be accessed in Helper.this.Cat\n Access to protected method eat not permitted because\n enclosing class Helper in class cmd0 is not a subclass of\n class Animal in class Helper where target is defined\nval res0_2 = new Cat().eat \n                       ^Compilation Failed",
          "output_type": "stream"
        },
        {
          "output_type": "error",
          "ename": "",
          "evalue": "",
          "traceback": [
            "Compilation Failed"
          ]
        }
      ],
      "execution_count": 0
    },
    {
      "cell_type": "markdown",
      "source": "But if the eat method is overridden in sub class and defined as public, it can be used outside",
      "metadata": {
        "tags": [],
        "cell_id": "00003-c02f3f75-86d0-4a4d-878c-be44bfa4d424",
        "deepnote_cell_type": "markdown"
      }
    },
    {
      "cell_type": "code",
      "source": "class Animal {\n  protected def eat = println(\"I am eattng!\")\n  final def run = println(\"I am running\") // can't be overridden\n}\n\nclass Dog extends Animal {\n    override def eat = println(\"I am overridden\")\n}\n\nnew Dog().eat",
      "metadata": {
        "tags": [],
        "cell_id": "00004-852742dc-715b-4bf0-b419-3ace41797ce2",
        "deepnote_to_be_reexecuted": false,
        "source_hash": "3979a9c5",
        "execution_millis": 2396,
        "execution_start": 1615165924318,
        "deepnote_cell_type": "code"
      },
      "outputs": [
        {
          "name": "stdout",
          "text": "I am overridden\n",
          "output_type": "stream"
        },
        {
          "output_type": "execute_result",
          "execution_count": 1,
          "data": {
            "text/plain": "defined \u001b[32mclass\u001b[39m \u001b[36mAnimal\u001b[39m\ndefined \u001b[32mclass\u001b[39m \u001b[36mDog\u001b[39m"
          },
          "metadata": {}
        }
      ],
      "execution_count": null
    },
    {
      "cell_type": "markdown",
      "source": "## Trait vs Abstract class\n\n\n| Trait                                              | Abstract class                       |  \n|----------------------------------------------------|--------------------------------------|\n| Supports multiple inheritance (Mix in composition) | Doesn’t support Multiple Inheritance | \n| Doesn’t contain constructor params                 | Contain constructor params           | ",
      "metadata": {
        "tags": [],
        "cell_id": "00005-30259a3a-ae79-4fbe-a9a7-7ec72924ae4a",
        "deepnote_cell_type": "markdown"
      }
    }
  ],
  "nbformat": 4,
  "nbformat_minor": 2,
  "metadata": {
    "orig_nbformat": 2,
    "deepnote_notebook_id": "6e9b2806-3a69-4955-a740-6fcc9d0f1938",
    "deepnote": {},
    "deepnote_execution_queue": []
  }
}