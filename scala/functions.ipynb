{
  "cells": [
    {
      "cell_type": "markdown",
      "source": "## Defining functions\n\n```scala\ndef functionName(params : paramTypes) : functionReturnType = {  \n     // statements\n}\n```",
      "metadata": {
        "tags": [],
        "cell_id": "00000-44e7561b-4d34-4d7b-aa9c-562c7217f9d4",
        "deepnote_cell_type": "markdown"
      }
    },
    {
      "cell_type": "markdown",
      "source": "### Function evaluation strategies",
      "metadata": {
        "tags": [],
        "cell_id": "00001-ef852aa3-6b56-4b6f-98c3-58d80c9a5ec0",
        "deepnote_cell_type": "markdown"
      }
    },
    {
      "cell_type": "code",
      "source": "def test() = {\n  println(\"testing call by value/name\")\n  1 // return value\n}",
      "metadata": {
        "tags": [],
        "cell_id": "00002-fdd2c804-7190-485c-9239-580ee0753953",
        "deepnote_to_be_reexecuted": false,
        "source_hash": "cc49d3c7",
        "execution_start": 1615146364253,
        "execution_millis": 3133,
        "deepnote_cell_type": "code"
      },
      "outputs": [
        {
          "output_type": "execute_result",
          "execution_count": 1,
          "data": {
            "text/plain": "defined \u001b[32mfunction\u001b[39m \u001b[36mtest\u001b[39m"
          },
          "metadata": {}
        }
      ],
      "execution_count": 1
    },
    {
      "cell_type": "markdown",
      "source": "#### call by value",
      "metadata": {
        "tags": [],
        "cell_id": "00002-a77372ce-6f38-4601-92ae-ed609b914a0d",
        "deepnote_cell_type": "markdown"
      }
    },
    {
      "cell_type": "code",
      "source": "def callByValue(x: Int) = {\n  println(\"x1=\" + x)\n  println(\"x2=\" + x)\n}\n\ncallByValue(test())",
      "metadata": {
        "tags": [],
        "cell_id": "00003-e566f96d-41b7-4d11-8757-1a32c38f5a56",
        "deepnote_to_be_reexecuted": false,
        "source_hash": "7c140d71",
        "execution_millis": 2222,
        "execution_start": 1615146370207,
        "deepnote_cell_type": "code"
      },
      "outputs": [
        {
          "name": "stdout",
          "text": "testing call by value/name\nx1=1\nx2=1\n",
          "output_type": "stream"
        },
        {
          "output_type": "execute_result",
          "execution_count": 2,
          "data": {
            "text/plain": "defined \u001b[32mfunction\u001b[39m \u001b[36mcallByValue\u001b[39m"
          },
          "metadata": {}
        }
      ],
      "execution_count": 2
    },
    {
      "cell_type": "markdown",
      "source": "#### call by name",
      "metadata": {
        "tags": [],
        "cell_id": "00005-5ea2ef09-2d2c-460e-bc2b-ac1e6a055155",
        "deepnote_cell_type": "markdown"
      }
    },
    {
      "cell_type": "code",
      "source": "def callByName(x: => Int) = {\n  println(\"x1=\" + x)\n  println(\"x2=\" + x)\n}\n\ncallByName(test())",
      "metadata": {
        "tags": [],
        "cell_id": "00004-5bfcbf11-44a8-4698-9ddf-9ebd395fb254",
        "deepnote_to_be_reexecuted": false,
        "source_hash": "3435e870",
        "execution_start": 1615146453089,
        "execution_millis": 756,
        "deepnote_cell_type": "code"
      },
      "outputs": [
        {
          "name": "stdout",
          "text": "testing call by value/name\nx1=1\ntesting call by value/name\nx2=1\n",
          "output_type": "stream"
        },
        {
          "output_type": "execute_result",
          "execution_count": 3,
          "data": {
            "text/plain": "defined \u001b[32mfunction\u001b[39m \u001b[36mcallByName\u001b[39m"
          },
          "metadata": {}
        }
      ],
      "execution_count": 3
    },
    {
      "cell_type": "markdown",
      "source": "### def vs val for functions\n\n```\nval add = (a: Int, b: Int) => a + b\n\nadd(2,3)\n```\n\n```\ndef add(a: Int, b: Int) => a + b\n\nadd(2,3)\n```",
      "metadata": {
        "tags": [],
        "cell_id": "00007-673f7688-9f2f-4863-9f8c-615462615bf8",
        "deepnote_cell_type": "markdown"
      }
    },
    {
      "cell_type": "markdown",
      "source": "",
      "metadata": {
        "tags": [],
        "cell_id": "00008-10cdadc9-237d-487c-8677-84fa96b607a9",
        "deepnote_cell_type": "markdown"
      }
    }
  ],
  "nbformat": 4,
  "nbformat_minor": 2,
  "metadata": {
    "orig_nbformat": 2,
    "deepnote_notebook_id": "be29c461-32be-466a-b0eb-426c3687020e",
    "deepnote": {},
    "deepnote_execution_queue": []
  }
}