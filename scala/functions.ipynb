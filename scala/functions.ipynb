{
  "cells": [
    {
      "cell_type": "markdown",
      "source": "## Function literals \n\n```scala\nxs.map(x => x*2)\n```\n\n`x => x*2` is function literal. These literals can be assigned to variables. ",
      "metadata": {
        "tags": [],
        "cell_id": "00000-c8e1fa3a-6906-470a-84ad-55793efdbff5",
        "deepnote_cell_type": "markdown"
      }
    },
    {
      "cell_type": "markdown",
      "source": "### val functions",
      "metadata": {
        "tags": [],
        "cell_id": "00001-3f7fb88b-581b-4936-885f-d3aa4b5a60c3",
        "deepnote_cell_type": "markdown"
      }
    },
    {
      "cell_type": "code",
      "metadata": {
        "tags": [],
        "cell_id": "00001-23851764-dcab-40db-a126-e501ce354bb6",
        "deepnote_to_be_reexecuted": false,
        "source_hash": "b78d5e0b",
        "execution_millis": 1856,
        "execution_start": 1615260951542,
        "deepnote_cell_type": "code"
      },
      "source": "val k = (x: Int) => x*2",
      "execution_count": null,
      "outputs": [
        {
          "output_type": "execute_result",
          "execution_count": 1,
          "data": {
            "text/plain": "\u001b[36mk\u001b[39m: \u001b[32mInt\u001b[39m => \u001b[32mInt\u001b[39m = ammonite.$sess.cmd0$Helper$$Lambda$1977/1974324826@694be3d4"
          },
          "metadata": {}
        }
      ]
    },
    {
      "cell_type": "markdown",
      "source": "where `(x: Int)` is Input params \n\n`x*2` is function body\n\nwill be converted in background by compiler as below since val function is instance of Function0 to Function22 trait.\n\n```scala\nval k = new Function1[Int, Int] {\n    def apply(x: Int): Int = x*2\n}\n```",
      "metadata": {
        "tags": [],
        "cell_id": "00002-ca8428ef-2146-4272-a315-5bb6dfcffe52",
        "deepnote_cell_type": "markdown"
      }
    },
    {
      "cell_type": "markdown",
      "source": "## Defining functions\n\nyou can define def methods in a class, object or trait\n\n```scala\ndef functionName(params : paramTypes) : functionReturnType = {  \n     // statements\n}\n```",
      "metadata": {
        "tags": [],
        "cell_id": "00000-44e7561b-4d34-4d7b-aa9c-562c7217f9d4",
        "deepnote_cell_type": "markdown"
      }
    },
    {
      "cell_type": "markdown",
      "source": "### assign def to a val",
      "metadata": {
        "tags": [],
        "cell_id": "00005-e5ed83c6-3abb-4c5d-98a6-bdf94d702b93",
        "deepnote_cell_type": "markdown"
      }
    },
    {
      "cell_type": "code",
      "metadata": {
        "tags": [],
        "cell_id": "00005-f0f9b7f3-30ac-450d-a248-807fa8402c4b",
        "deepnote_to_be_reexecuted": false,
        "source_hash": "2fe4772e",
        "execution_millis": 2468,
        "execution_start": 1615261951947,
        "deepnote_cell_type": "code"
      },
      "source": "def fun(str: String) = println(s\"this is $str\")\n\nval funFn = fun _\n\nfunFn(\"Hi\")",
      "execution_count": null,
      "outputs": [
        {
          "name": "stdout",
          "text": "this is Hi\n",
          "output_type": "stream"
        },
        {
          "output_type": "execute_result",
          "execution_count": 1,
          "data": {
            "text/plain": "defined \u001b[32mfunction\u001b[39m \u001b[36mfun\u001b[39m\n\u001b[36mfunFn\u001b[39m: \u001b[32mString\u001b[39m => \u001b[32mUnit\u001b[39m = ammonite.$sess.cmd0$Helper$$Lambda$2097/2061029062@7952cff"
          },
          "metadata": {}
        }
      ]
    },
    {
      "cell_type": "markdown",
      "source": "### def vs val \n\nMethod def evaluates on each call and creates new function every time i.e new instances of Function0 to Function22. Evaluates when called. \n\nval evaluates when defined, but we can also use lazy val which is evaluated when called, but only once.",
      "metadata": {
        "tags": [],
        "cell_id": "00007-55634808-7f05-4c1e-b517-7b72a3f42f3e",
        "deepnote_cell_type": "markdown"
      }
    },
    {
      "cell_type": "markdown",
      "source": "### Function evaluation strategies",
      "metadata": {
        "tags": [],
        "cell_id": "00001-ef852aa3-6b56-4b6f-98c3-58d80c9a5ec0",
        "deepnote_cell_type": "markdown"
      }
    },
    {
      "cell_type": "code",
      "metadata": {
        "tags": [],
        "cell_id": "00002-fdd2c804-7190-485c-9239-580ee0753953",
        "deepnote_to_be_reexecuted": false,
        "source_hash": "cc49d3c7",
        "execution_millis": 3852,
        "execution_start": 1615260275493,
        "deepnote_cell_type": "code"
      },
      "source": "def test() = {\n  println(\"testing call by value/name\")\n  1 // return value\n}",
      "execution_count": null,
      "outputs": [
        {
          "output_type": "execute_result",
          "execution_count": 1,
          "data": {
            "text/plain": "defined \u001b[32mfunction\u001b[39m \u001b[36mtest\u001b[39m"
          },
          "metadata": {}
        }
      ]
    },
    {
      "cell_type": "markdown",
      "source": "#### call by value",
      "metadata": {
        "tags": [],
        "cell_id": "00002-a77372ce-6f38-4601-92ae-ed609b914a0d",
        "deepnote_cell_type": "markdown"
      }
    },
    {
      "cell_type": "code",
      "metadata": {
        "tags": [],
        "cell_id": "00003-e566f96d-41b7-4d11-8757-1a32c38f5a56",
        "deepnote_to_be_reexecuted": false,
        "source_hash": "7c140d71",
        "execution_millis": 1122,
        "execution_start": 1615260279393,
        "deepnote_cell_type": "code"
      },
      "source": "def callByValue(x: Int) = {\n  println(\"x1=\" + x)\n  println(\"x2=\" + x)\n}\n\ncallByValue(test())",
      "execution_count": null,
      "outputs": [
        {
          "name": "stdout",
          "text": "testing call by value/name\nx1=1\nx2=1\n",
          "output_type": "stream"
        },
        {
          "output_type": "execute_result",
          "execution_count": 2,
          "data": {
            "text/plain": "defined \u001b[32mfunction\u001b[39m \u001b[36mcallByValue\u001b[39m"
          },
          "metadata": {}
        }
      ]
    },
    {
      "cell_type": "markdown",
      "source": "#### call by name",
      "metadata": {
        "tags": [],
        "cell_id": "00005-5ea2ef09-2d2c-460e-bc2b-ac1e6a055155",
        "deepnote_cell_type": "markdown"
      }
    },
    {
      "cell_type": "code",
      "metadata": {
        "tags": [],
        "cell_id": "00004-5bfcbf11-44a8-4698-9ddf-9ebd395fb254",
        "deepnote_to_be_reexecuted": false,
        "source_hash": "3435e870",
        "execution_millis": 506,
        "execution_start": 1615260280511,
        "deepnote_cell_type": "code"
      },
      "source": "def callByName(x: => Int) = {\n  println(\"x1=\" + x)\n  println(\"x2=\" + x)\n}\n\ncallByName(test())",
      "execution_count": null,
      "outputs": [
        {
          "name": "stdout",
          "text": "testing call by value/name\nx1=1\ntesting call by value/name\nx2=1\n",
          "output_type": "stream"
        },
        {
          "output_type": "execute_result",
          "execution_count": 3,
          "data": {
            "text/plain": "defined \u001b[32mfunction\u001b[39m \u001b[36mcallByName\u001b[39m"
          },
          "metadata": {}
        }
      ]
    }
  ],
  "nbformat": 4,
  "nbformat_minor": 2,
  "metadata": {
    "orig_nbformat": 2,
    "deepnote_notebook_id": "be29c461-32be-466a-b0eb-426c3687020e",
    "deepnote": {},
    "deepnote_execution_queue": []
  }
}